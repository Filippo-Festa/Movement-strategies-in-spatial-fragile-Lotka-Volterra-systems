{
 "cells": [
  {
   "cell_type": "code",
   "execution_count": 1,
   "id": "412ffe2f",
   "metadata": {},
   "outputs": [],
   "source": [
    "import copy\n",
    "import math\n",
    "#import pygame\n",
    "import itertools\n",
    "import os\n",
    "import wandb\n",
    "\n",
    "import numpy as np\n",
    "import matplotlib.pyplot as plt\n",
    "from scipy.integrate import odeint\n",
    "from scipy.special import zeta\n",
    "from tqdm import tqdm"
   ]
  },
  {
   "cell_type": "code",
   "execution_count": 2,
   "id": "c6937777",
   "metadata": {},
   "outputs": [],
   "source": [
    "def periodic_range(a, b, L): # list of all the elements from a to b, considering the b.c.'s\n",
    "    if a <= b:\n",
    "        return list(range(a, b))\n",
    "    else:\n",
    "        return list(range(a, L))+list(range(0, b))\n",
    "    \n",
    "def periodic_distance(a, b, L): # distance between two coordinates, considering the b.c.'s\n",
    "    return min(abs(a-b), abs((a+L)-b), abs(a-(b+L)))\n",
    "    #return np.minimum(abs(a-b), abs((a+L)-b), abs(a-(b+L)))\n",
    "    \n",
    "def periodic_distance1(a, b, L): # distance between two coordinates, considering the b.c.'s\n",
    "    return np.minimum(abs(a-b), abs((a+L)-b), abs(a-(b+L)))\n",
    "\n",
    "def periodic_distance2(a, b, L):\n",
    "    # Calculate the difference between coordinates, considering periodic boundaries\n",
    "    diff = (a - b) % L\n",
    "    # Apply the minimum distance considering both directions\n",
    "    return np.minimum(diff, L - diff)\n",
    "\n",
    "def get_random_neighboor(pos_x, pos_y, L): # random neighbor in the square surrounding a given cell\n",
    "    choice_x, choice_y = 0, 0\n",
    "    while choice_x == 0 and choice_y == 0:\n",
    "        choice_x, choice_y = np.random.randint(3, size = 2) - 1\n",
    "    return (pos_x + choice_x)%L, (pos_y + choice_y)%L\n",
    "\n",
    "def power_law(beta, size = 1): # discrete power law sampler\n",
    "    sign = (-1)**np.random.randint(2, size = size)\n",
    "    x = np.random.zipf(beta, size)\n",
    "    return sign*x\n",
    "\n",
    "def power_law_cont(beta): # continuous power law sampler\n",
    "    u = next(random_unif_numbers)#np.random.random(size = size)\n",
    "    l = u**(1/(1-beta))\n",
    "    return l\n",
    "\n",
    "def power_law_boyer(beta): # continuous power law sampler\n",
    "    u = next(random_unif_numbers)#np.random.random(size = size)\n",
    "    l = ((1000**(1-beta)-1**(1-beta))*u + 1**(1-beta))**(1/(1-beta))\n",
    "    return l\n",
    "\n",
    "def distance_matrix(pos_x, pos_y, L): # matrix of distances between centers of the patches\n",
    "    n = pos_x.shape[0]\n",
    "    mat = np.zeros((n,n))\n",
    "    for i in range(n):\n",
    "        for j in range(i):\n",
    "            mat[i,j] = np.sqrt((periodic_distance(pos_x[i], pos_x[j], L))**2 + (periodic_distance(pos_y[i], pos_y[j], L))**2)\n",
    "            mat[j,i] = mat[i,j]\n",
    "\n",
    "    return mat\n",
    "\n",
    "def continuous_move(pos_x, pos_y, L, beta): # continuous move with radial symmetry\n",
    "    l = power_law_boyer(beta)\n",
    "    theta = 2*np.pi*next(random_unif_numbers)#np.random.random()\n",
    "    l_x, l_y = l*np.cos(theta), l*np.sin(theta)\n",
    "                    \n",
    "    new_x, new_y = int(((pos_x+0.5) + l_x)%L), int(((pos_y+0.5) + l_y)%L)\n",
    "    return new_x, new_y\n",
    "\n",
    "def gauss_move(pos_x, pos_y, L, m, std):\n",
    "    r = norm.rvs(loc = m, scale = std, size = 1)\n",
    "    while r < 0:\n",
    "        r = norm.rvs(loc = m, scale = std, size = 1)\n",
    "        \n",
    "    theta = 2*np.pi*next(random_unif_numbers)\n",
    "    r_x, r_y = r*np.cos(theta), r*np.sin(theta)\n",
    "    \n",
    "    new_x, new_y = int(((pos_x+0.5) + r_x)%L), int(((pos_y+0.5) + r_y)%L)\n",
    "    return new_x, new_y\n",
    "\n",
    "def expon_move(pos_x, pos_y, L, m):\n",
    "    r = expon.rvs(loc = 0, scale = m, size = 1)\n",
    "        \n",
    "    theta = 2*np.pi*next(random_unif_numbers)\n",
    "    r_x, r_y = r*np.cos(theta), r*np.sin(theta)\n",
    "    \n",
    "    new_x, new_y = int(((pos_x+0.5) + r_x)%L), int(((pos_y+0.5) + r_y)%L)\n",
    "    return new_x, new_y"
   ]
  },
  {
   "cell_type": "code",
   "execution_count": 3,
   "id": "a26f747a",
   "metadata": {},
   "outputs": [],
   "source": [
    "#! wandb login f10b237d96ce3032483385fa304a0eed16a99927"
   ]
  },
  {
   "cell_type": "code",
   "execution_count": 4,
   "id": "26f52340",
   "metadata": {},
   "outputs": [
    {
     "name": "stdout",
     "output_type": "stream",
     "text": [
      "Result using periodic_distance: [31 38 64 28 64 53 67 32 37 58]\n",
      "Result using periodic_distance2: [31 38 64 28 64 53 67 32 37 58]\n",
      "Both functions produce the same result.\n"
     ]
    }
   ],
   "source": [
    "L = 200\n",
    "a = np.random.randint(0, L, size = 10)\n",
    "b = np.random.randint(0, L, size = 10)\n",
    "\n",
    "# Compute distances using both functions\n",
    "distance1 = periodic_distance1(a, b, L)\n",
    "distance2 = periodic_distance2(a, b, L)\n",
    "\n",
    "# Print the results\n",
    "print(\"Result using periodic_distance:\", distance1)\n",
    "print(\"Result using periodic_distance2:\", distance2)\n",
    "\n",
    "# Check if the results are the same\n",
    "if np.array_equal(distance1, distance2):\n",
    "    print(\"Both functions produce the same result.\")\n",
    "else:\n",
    "    print(\"There is a discrepancy between the results.\")"
   ]
  },
  {
   "cell_type": "code",
   "execution_count": 5,
   "id": "aef658f7",
   "metadata": {},
   "outputs": [],
   "source": [
    "def NoMove_stationary(lambd, mu, sigma, K, lambd_p):\n",
    "  b_stat = mu/lambd\n",
    "  if b_stat<K:\n",
    "    a_stat = (K - b_stat)/(1 + (lambd_p*K/sigma))\n",
    "    return [a_stat, b_stat]\n",
    "  elif b_stat>K:\n",
    "    return [0, K]\n",
    "\n",
    "def p(l, beta, p_0):\n",
    "    if l==0:\n",
    "        return p_0\n",
    "    else:\n",
    "        norm = zeta(beta, 1)\n",
    "        return (1-p_0)*abs(l)**(-beta)/(2*norm)\n",
    "\n",
    "def p1(l, beta, p_0):\n",
    "    l = np.where(l!=0, l, np.inf)\n",
    "    #if l==0:\n",
    "    #    return p_0\n",
    "    #else:\n",
    "    norm = zeta(beta, 1)\n",
    "    res = (1-p_0)*abs(l)**(-beta)/(2*norm)\n",
    "    return np.where(res != 0, res, p_0)\n",
    "\n",
    "def norm_gauss(m, std):\n",
    "    som = 0\n",
    "    for i in range(1, 10000):\n",
    "        som += np.exp(-(i-m)**2/(2*std**2))\n",
    "    \n",
    "    som = som*2\n",
    "    som += np.exp(-(0-m)**2/(2*std**2))\n",
    "    \n",
    "    return som\n",
    "\n",
    "def p_gauss(l, m, std):\n",
    "    res = np.exp(-(abs(l)-m)**2/(2*std**2))/norm_gauss_const\n",
    "    return res\n",
    "\n",
    "def p_exp(l, m):\n",
    "    norm = (np.e**(1/m)+1)/(np.e**(1/m)-1)\n",
    "    res = np.exp(-(abs(l)/m))/norm\n",
    "    return res\n",
    "    \n",
    "def flux(a_t, i, j, beta, p_0):\n",
    "    L = a_t.shape[0]\n",
    "    som = 0\n",
    "    for pos_x in range(L):\n",
    "        for pos_y in range(L):\n",
    "            l_x = periodic_distance(i, pos_x, L)\n",
    "            l_y = periodic_distance(j, pos_y, L)\n",
    "            som += p(l_x, beta, p_0)*p(l_y, beta, p_0)*a_t[pos_x, pos_y]\n",
    "    \n",
    "    return som\n",
    "\n",
    "def flux1(a_t, i, j, beta, p_0):\n",
    "    L = a_t.shape[0]\n",
    "    pos_x = np.arange(L)\n",
    "    pos_y = np.arange(L)\n",
    "    l_x = periodic_distance1(i, pos_x, L)\n",
    "    l_y = periodic_distance1(j, pos_y, L)\n",
    "    p_x = p1(l_x, beta, p_0)\n",
    "    p_y = p1(l_y, beta, p_0)\n",
    "    return np.sum(np.outer(p_x, p_y) * a_t)\n",
    "\n",
    "def flux2(a_t, i, j, beta, p_0):\n",
    "    L = a_t.shape[0]\n",
    "    pos_x = np.arange(L)\n",
    "    pos_y = np.arange(L)\n",
    "    l_x = periodic_distance2(i, pos_x, L)\n",
    "    l_y = periodic_distance2(j, pos_y, L)\n",
    "    #p_x = p1(l_x, beta, p_0)\n",
    "    #p_y = p1(l_y, beta, p_0)\n",
    "    p_x = p_gauss(l_x, m, std)\n",
    "    p_y = p_gauss(l_y, m, std)\n",
    "    #p_x = p_exp(l_x, m)\n",
    "    #p_y = p_exp(l_y, m)\n",
    "    \n",
    "    return np.sum(np.outer(p_x, p_y) * a_t)"
   ]
  },
  {
   "cell_type": "code",
   "execution_count": 6,
   "id": "4dd2ea5e",
   "metadata": {},
   "outputs": [
    {
     "ename": "NameError",
     "evalue": "name 'm' is not defined",
     "output_type": "error",
     "traceback": [
      "\u001b[1;31m---------------------------------------------------------------------------\u001b[0m",
      "\u001b[1;31mNameError\u001b[0m                                 Traceback (most recent call last)",
      "\u001b[1;32m<ipython-input-6-7daa72b4a5f6>\u001b[0m in \u001b[0;36m<module>\u001b[1;34m\u001b[0m\n\u001b[0;32m     10\u001b[0m \u001b[1;33m\u001b[0m\u001b[0m\n\u001b[0;32m     11\u001b[0m \u001b[1;31m# Call the flux and flux2 functions\u001b[0m\u001b[1;33m\u001b[0m\u001b[1;33m\u001b[0m\u001b[1;33m\u001b[0m\u001b[0m\n\u001b[1;32m---> 12\u001b[1;33m \u001b[0mresult_flux\u001b[0m \u001b[1;33m=\u001b[0m \u001b[0mflux2\u001b[0m\u001b[1;33m(\u001b[0m\u001b[0ma_t\u001b[0m\u001b[1;33m,\u001b[0m \u001b[0mi\u001b[0m\u001b[1;33m,\u001b[0m \u001b[0mj\u001b[0m\u001b[1;33m,\u001b[0m \u001b[0mbeta\u001b[0m\u001b[1;33m,\u001b[0m \u001b[0mp_0\u001b[0m\u001b[1;33m)\u001b[0m\u001b[1;33m\u001b[0m\u001b[1;33m\u001b[0m\u001b[0m\n\u001b[0m\u001b[0;32m     13\u001b[0m \u001b[0mresult_flux2\u001b[0m \u001b[1;33m=\u001b[0m \u001b[0mflux\u001b[0m\u001b[1;33m(\u001b[0m\u001b[0ma_t\u001b[0m\u001b[1;33m,\u001b[0m \u001b[0mi\u001b[0m\u001b[1;33m,\u001b[0m \u001b[0mj\u001b[0m\u001b[1;33m,\u001b[0m \u001b[0mbeta\u001b[0m\u001b[1;33m,\u001b[0m \u001b[0mp_0\u001b[0m\u001b[1;33m)\u001b[0m\u001b[1;33m\u001b[0m\u001b[1;33m\u001b[0m\u001b[0m\n\u001b[0;32m     14\u001b[0m \u001b[1;33m\u001b[0m\u001b[0m\n",
      "\u001b[1;32m<ipython-input-5-5037ecb1a746>\u001b[0m in \u001b[0;36mflux2\u001b[1;34m(a_t, i, j, beta, p_0)\u001b[0m\n\u001b[0;32m     71\u001b[0m     \u001b[1;31m#p_x = p1(l_x, beta, p_0)\u001b[0m\u001b[1;33m\u001b[0m\u001b[1;33m\u001b[0m\u001b[1;33m\u001b[0m\u001b[0m\n\u001b[0;32m     72\u001b[0m     \u001b[1;31m#p_y = p1(l_y, beta, p_0)\u001b[0m\u001b[1;33m\u001b[0m\u001b[1;33m\u001b[0m\u001b[1;33m\u001b[0m\u001b[0m\n\u001b[1;32m---> 73\u001b[1;33m     \u001b[0mp_x\u001b[0m \u001b[1;33m=\u001b[0m \u001b[0mp_gauss\u001b[0m\u001b[1;33m(\u001b[0m\u001b[0ml_x\u001b[0m\u001b[1;33m,\u001b[0m \u001b[0mm\u001b[0m\u001b[1;33m,\u001b[0m \u001b[0mstd\u001b[0m\u001b[1;33m)\u001b[0m\u001b[1;33m\u001b[0m\u001b[1;33m\u001b[0m\u001b[0m\n\u001b[0m\u001b[0;32m     74\u001b[0m     \u001b[0mp_y\u001b[0m \u001b[1;33m=\u001b[0m \u001b[0mp_gauss\u001b[0m\u001b[1;33m(\u001b[0m\u001b[0ml_y\u001b[0m\u001b[1;33m,\u001b[0m \u001b[0mm\u001b[0m\u001b[1;33m,\u001b[0m \u001b[0mstd\u001b[0m\u001b[1;33m)\u001b[0m\u001b[1;33m\u001b[0m\u001b[1;33m\u001b[0m\u001b[0m\n\u001b[0;32m     75\u001b[0m     \u001b[1;31m#p_x = p_exp(l_x, m)\u001b[0m\u001b[1;33m\u001b[0m\u001b[1;33m\u001b[0m\u001b[1;33m\u001b[0m\u001b[0m\n",
      "\u001b[1;31mNameError\u001b[0m: name 'm' is not defined"
     ]
    }
   ],
   "source": [
    "# Define the parameters\n",
    "L = 200  # Size of the grid\n",
    "i = 40   # Position i\n",
    "j = 153   # Position j\n",
    "beta = 2  # Parameter beta\n",
    "p_0 = 0.8  # Parameter p_0\n",
    "\n",
    "# Create a random grid a_t\n",
    "a_t = np.random.rand(L, L)\n",
    "\n",
    "# Call the flux and flux2 functions\n",
    "result_flux = flux2(a_t, i, j, beta, p_0)\n",
    "result_flux2 = flux(a_t, i, j, beta, p_0)\n",
    "\n",
    "# Compare the results\n",
    "if np.allclose(result_flux, result_flux2):\n",
    "    print(\"Results of flux and flux1 are equal.\")\n",
    "else:\n",
    "    print(\"Results of flux and flux1 are not equal.\")\n",
    "    \n",
    "### FLUX AND FLUX2 ARE EQUAL, WHILE FLUX1 NOT"
   ]
  },
  {
   "cell_type": "code",
   "execution_count": 188,
   "id": "1673d56f",
   "metadata": {},
   "outputs": [],
   "source": [
    "#run = wandb.init(project=\"Project-PMoLS-fou-mu-020\")     # , entity=\"campagnolafesta\"\n",
    "\n",
    "config = dict(\n",
    "    l_0=4, \n",
    "    sigma=0.5,\n",
    "    mu=0.11,    \n",
    "    R_0=10.48, \n",
    "    beta=1.7,                 \n",
    "    T=100)              \n",
    "\n",
    "#wandb.config = config\n",
    "#wandb.config"
   ]
  },
  {
   "cell_type": "code",
   "execution_count": 233,
   "id": "97addc95",
   "metadata": {},
   "outputs": [
    {
     "name": "stderr",
     "output_type": "stream",
     "text": [
      "  0%|          | 3/999 [00:00<00:47, 21.12it/s]"
     ]
    },
    {
     "name": "stdout",
     "output_type": "stream",
     "text": [
      "a0:  0.05\n",
      "b0:  0.85\n"
     ]
    },
    {
     "name": "stderr",
     "output_type": "stream",
     "text": [
      "100%|██████████| 999/999 [00:44<00:00, 22.35it/s]"
     ]
    },
    {
     "name": "stdout",
     "output_type": "stream",
     "text": [
      "2.480916030534351\n"
     ]
    },
    {
     "name": "stderr",
     "output_type": "stream",
     "text": [
      "\n"
     ]
    }
   ],
   "source": [
    "lambd, mu, sigma, K, lambd_p = 1, config['mu'], config['sigma'], 1, 1\n",
    "#a0, b0 = NoMove_stationary(lambd, mu, sigma, K, lambd_p)\n",
    "a0 = 0.05\n",
    "b0 = K - a0*(1 + (K*lambd_p)/sigma)\n",
    "print(\"a0: \", a0)\n",
    "print(\"b0: \", b0)\n",
    "\n",
    "lambd0 = 1\n",
    "\n",
    "l_0 = config['l_0']\n",
    "R_0 = config['R_0']\n",
    "R = R_0/np.sqrt(np.pi)\n",
    "\n",
    "L = 9*l_0 # AUMENTO l\n",
    "T = config['T'] # AUMENTO T\n",
    "dt = 0.1 # DIMINUISCO DT\n",
    "q = int(T/dt)\n",
    "\n",
    "m = 26/R_0\n",
    "std = 1/R_0\n",
    "\n",
    "norm_gauss_const = norm_gauss(m, std)\n",
    "\n",
    "\n",
    "'''\n",
    "beta = config['beta']\n",
    "if beta == 2:\n",
    "    p_0 = 1 - (2/R_0) # checked doing the limit\n",
    "else:\n",
    "    p_0 = 1 - (1/R_0) + (1-R_0**(2-beta))/((2-beta)*R_0)\n",
    "    '''\n",
    "\n",
    "a = np.zeros((q,L,L))\n",
    "b = np.zeros((q,L,L))\n",
    "a[0, :, :] = a0\n",
    "\n",
    "patch_map = np.zeros((L,L))\n",
    "                     \n",
    "for i in range(L):\n",
    "    for j in range(L):\n",
    "        if i%l_0==0 and j%l_0==0:\n",
    "            patch_map[i, j] = 1\n",
    "            a[0, i, j] = 0.25\n",
    "            b[0, i, j] = b0\n",
    "\n",
    "for t in tqdm(range(q-1)):\n",
    "    for i in range(L):\n",
    "        for j in range(L):\n",
    "            move_out = lambd0*a[t, i, j]\n",
    "            move_in = flux2(a[t], i, j, beta, p_0)\n",
    "            reproduction = lambd*a[t, i, j]*b[t, i, j]\n",
    "            death = mu*a[t, i, j]\n",
    "            a[t+1, i, j] = a[t, i, j] + (-move_out+move_in+reproduction-death)*dt\n",
    "            \n",
    "            if i%l_0==0 and j%l_0==0:\n",
    "                offspring = sigma*b[t, i, j]*(1-(a[t, i, j]+b[t, i, j])/K)\n",
    "                predation = lambd_p*a[t, i, j]*b[t, i, j]\n",
    "                b[t+1, i, j] = b[t, i, j] + (offspring-predation)*dt\n",
    "                \n",
    "print(m)"
   ]
  },
  {
   "cell_type": "code",
   "execution_count": 234,
   "id": "353fdfe3",
   "metadata": {},
   "outputs": [
    {
     "data": {
      "text/plain": [
       "\"\\nwandb.log({'l_0':config['l_0'], 'mu':config['mu'], 'R_0':config['R_0'], 'beta':config['beta'],\\n           'Predator stationary density': np.mean(a[-1]),\\n           'Prey stationary density': np.mean(b[-1])}\\n           )\\nrun.finish()\\n\""
      ]
     },
     "execution_count": 234,
     "metadata": {},
     "output_type": "execute_result"
    }
   ],
   "source": [
    "'''\n",
    "wandb.log({'l_0':config['l_0'], 'mu':config['mu'], 'R_0':config['R_0'], 'beta':config['beta'],\n",
    "           'Predator stationary density': np.mean(a[-1]),\n",
    "           'Prey stationary density': np.mean(b[-1])}\n",
    "           )\n",
    "run.finish()\n",
    "'''"
   ]
  },
  {
   "cell_type": "code",
   "execution_count": 235,
   "id": "b14d6f8f",
   "metadata": {},
   "outputs": [
    {
     "data": {
      "text/plain": [
       "<matplotlib.colorbar.Colorbar at 0x1363e506580>"
      ]
     },
     "execution_count": 235,
     "metadata": {},
     "output_type": "execute_result"
    },
    {
     "data": {
      "image/png": "[encoded data removed]",
      "text/plain": [
       "<Figure size 720x576 with 2 Axes>"
      ]
     },
     "metadata": {
      "needs_background": "light"
     },
     "output_type": "display_data"
    }
   ],
   "source": [
    "plt.figure(figsize = (10,8))\n",
    "plt.title(\"Stationary predator density with movement\", fontsize = 20)\n",
    "plt.imshow(a[-1])\n",
    "plt.colorbar()"
   ]
  },
  {
   "cell_type": "code",
   "execution_count": 236,
   "id": "c2340787",
   "metadata": {},
   "outputs": [
    {
     "data": {
      "text/plain": [
       "'\\nfor i in range(5):\\n    for j in range(l_0+1):\\n        print(a[-1, i*l_0 + j, 0])\\n    print(\"\\n\")\\n    '"
      ]
     },
     "execution_count": 236,
     "metadata": {},
     "output_type": "execute_result"
    }
   ],
   "source": [
    "'''\n",
    "for i in range(5):\n",
    "    for j in range(l_0+1):\n",
    "        print(a[-1, i*l_0 + j, 0])\n",
    "    print(\"\\n\")\n",
    "    '''"
   ]
  },
  {
   "cell_type": "code",
   "execution_count": 237,
   "id": "48e1bdc7",
   "metadata": {},
   "outputs": [
    {
     "data": {
      "text/plain": [
       "'\\nfor i in range(5):\\n    for j in range(l_0+1):\\n        print(a[-1, 0, i*l_0 + j])\\n    print(\"\\n\")\\n    '"
      ]
     },
     "execution_count": 237,
     "metadata": {},
     "output_type": "execute_result"
    }
   ],
   "source": [
    "'''\n",
    "for i in range(5):\n",
    "    for j in range(l_0+1):\n",
    "        print(a[-1, 0, i*l_0 + j])\n",
    "    print(\"\\n\")\n",
    "    '''"
   ]
  },
  {
   "cell_type": "code",
   "execution_count": 238,
   "id": "4de5fe41",
   "metadata": {},
   "outputs": [
    {
     "data": {
      "text/plain": [
       "[<matplotlib.lines.Line2D at 0x1363e56ce20>]"
      ]
     },
     "execution_count": 238,
     "metadata": {},
     "output_type": "execute_result"
    },
    {
     "data": {
      "image/png": "[encoded data removed]",
      "text/plain": [
       "<Figure size 432x288 with 1 Axes>"
      ]
     },
     "metadata": {
      "needs_background": "light"
     },
     "output_type": "display_data"
    }
   ],
   "source": [
    "plt.plot(a[-1, :, 0])\n",
    "plt.plot(a[-1, :, 4])"
   ]
  },
  {
   "cell_type": "code",
   "execution_count": 239,
   "id": "b41ec022",
   "metadata": {},
   "outputs": [
    {
     "data": {
      "text/plain": [
       "[<matplotlib.lines.Line2D at 0x1363e5aaaf0>]"
      ]
     },
     "execution_count": 239,
     "metadata": {},
     "output_type": "execute_result"
    },
    {
     "data": {
      "image/png": "[encoded data removed]",
      "text/plain": [
       "<Figure size 432x288 with 1 Axes>"
      ]
     },
     "metadata": {
      "needs_background": "light"
     },
     "output_type": "display_data"
    }
   ],
   "source": [
    "plt.plot(a[:, 0, 0])\n",
    "plt.plot(a[:, 4, 4])"
   ]
  },
  {
   "cell_type": "code",
   "execution_count": 240,
   "id": "59f9b7d7",
   "metadata": {},
   "outputs": [
    {
     "name": "stdout",
     "output_type": "stream",
     "text": [
      "0.04718407181733068\n",
      "0.029408062189818344\n"
     ]
    }
   ],
   "source": [
    "print(np.mean(a[-1]))\n",
    "print(np.mean(b[-1]))"
   ]
  },
  {
   "cell_type": "code",
   "execution_count": 231,
   "id": "73ce4f76",
   "metadata": {},
   "outputs": [],
   "source": [
    "# a (mu = 0.11) gauss std 1\n",
    "# [0.018542, 0.018542, 0.018542, 0.018543, 0.040771, 0.047111, 0.047125, 0.047125, 0.047125, 0.047125] fino a 14 e poi [0.047083, 0.043372, 0.031383, 0.031383, 0.031383, 0.031383, 0.031383] fino a 25 e poi [0.047184]"
   ]
  },
  {
   "cell_type": "code",
   "execution_count": 232,
   "id": "33db2e56",
   "metadata": {},
   "outputs": [],
   "source": [
    "# b (mu = 0.11) gauss std 1\n",
    "# [0.006875, 0.006875, 0.006875, 0.006876, 0.019603, 0.033463, 0.033400, 0.033400, 0.033400, 0.033400] fino a 14 e poi [0.033591, 0.022194, 0.013052, 0.013052, 0.013052, 0.013052, 0.013052] fino a 25 e poi [0.029408]"
   ]
  },
  {
   "cell_type": "code",
   "execution_count": null,
   "id": "9fe889e1",
   "metadata": {},
   "outputs": [],
   "source": [
    "# a (mu = 0.20) exp\n",
    "# [0.038139, 0.035817, 0.034656, 0.033921, 0.033230]"
   ]
  },
  {
   "cell_type": "code",
   "execution_count": null,
   "id": "92d0ed63",
   "metadata": {},
   "outputs": [],
   "source": [
    "# b (mu = 0.20) exp\n",
    "# [0.078876, 0.081985, 0.083398, 0.084197, 0.084808]"
   ]
  },
  {
   "cell_type": "code",
   "execution_count": 630,
   "id": "c2ea2345",
   "metadata": {},
   "outputs": [],
   "source": [
    "# a (mu = 0.11) exp\n",
    "# [0.018558, 0.021441, 0.031349, 0.040708, 0.045662, 0.047257, 0.047161, 0.046408, 0.045490, 0.044611] [0.041796, 0.040554, 0.039524, 0.037821, 0.034962]"
   ]
  },
  {
   "cell_type": "code",
   "execution_count": null,
   "id": "5c1b4a72",
   "metadata": {},
   "outputs": [],
   "source": [
    "# b (mu = 0.11) exp\n",
    "# [0.006882, 0.008134, 0.013085, 0.019547, 0.025353, 0.029875, 0.033217, 0.035655, 0.037441, 0.038765] [0.041951, 0.043039, 0.043644, 0.044298, 0.045244]"
   ]
  },
  {
   "cell_type": "code",
   "execution_count": 499,
   "id": "6e084f38",
   "metadata": {},
   "outputs": [],
   "source": [
    "# a (mu = 0.05) exp\n",
    "# m = 1 --> 0.006842\n",
    "# m = 2 --> 0.016286\n",
    "# m = 3 --> 0.027740\n",
    "# m = 4 --> 0.033026\n",
    "# m = 5 --> 0.034134\n",
    "# m = 6 --> 0.033445\n",
    "# m = 7 --> 0.032350\n",
    "# m = 8 --> 0.030981\n",
    "# m = 9 --> 0.030040\n",
    "# m = 10 --> 0.029279\n",
    "# m = 15 --> 0.027585\n",
    "# m = 20 --> 0.024288\n",
    "# m = 25 --> 0.018151\n",
    "# m = 30 --> 0.011489\n",
    "# m = 35 --> 0.006596"
   ]
  },
  {
   "cell_type": "code",
   "execution_count": 402,
   "id": "86de50ef",
   "metadata": {},
   "outputs": [],
   "source": [
    "# b (mu = 0.05) exp\n",
    "# m = 1 --> 0.001092\n",
    "# m = 2 --> 0.002837\n",
    "# m = 3 --> 0.005822\n",
    "# m = 4 --> 0.008466\n",
    "# m = 5 --> 0.010386\n",
    "# m = 6 --> 0.011706\n",
    "# m = 7 --> 0.012602\n",
    "# m = 8 --> 0.013251\n",
    "# m = 9 --> 0.013691\n",
    "# m = 10 --> 0.014008\n",
    "# m = 15 --> 0.014701\n",
    "# m = 20 --> 0.015222\n",
    "# m = 25 --> 0.016049\n",
    "# m = 30 --> 0.017076\n",
    "# m = 35 --> 0.018026"
   ]
  },
  {
   "cell_type": "code",
   "execution_count": 261,
   "id": "5d2d4911",
   "metadata": {},
   "outputs": [],
   "source": [
    "# a (mu = 0.05) gauss std 1\n",
    "# m = 1 --> 0.006501\n",
    "# m = 2 --> 0.006501\n",
    "# m = 3 --> 0.014368\n",
    "# m = 4 --> 0.032095\n",
    "# m = 5 --> 0.032816\n",
    "# m = 6 --> 0.032816\n",
    "# m = 7 --> 0.032816\n",
    "# m = 8 --> 0.032816\n",
    "# m = 9 --> 0.032816\n",
    "# m = 10 -->0.032288\n",
    "# dovrebbe rimanere costante fino a m = l_0*R_0 = 49"
   ]
  },
  {
   "cell_type": "code",
   "execution_count": null,
   "id": "710e5798",
   "metadata": {},
   "outputs": [],
   "source": [
    "# b (mu = 0.05) gauss std 1\n",
    "# m = 1 --> 0.001010\n",
    "# m = 2 --> 0.001010\n",
    "# m = 3 --> 0.002449\n",
    "# m = 4 --> 0.012627\n",
    "# m = 5 --> 0.012119\n",
    "# m = 6 --> 0.012119\n",
    "# m = 7 --> 0.012119\n",
    "# m = 8 --> 0.012119\n",
    "# m = 9 --> 0.012119\n",
    "# m = 10 --> 0.012502\n",
    "# dovrebbe rimanere costante fino a m = l_0*R_0 = 49"
   ]
  },
  {
   "cell_type": "code",
   "execution_count": null,
   "id": "ea59ede1",
   "metadata": {},
   "outputs": [],
   "source": [
    "# a (mu = 0.05) gauss std 0.1\n",
    "# m = 1 --> 0.006501\n",
    "# m = 2 --> 0.006501\n",
    "# m = 3 --> 0.006501\n",
    "# m = 4 --> 0.032816\n",
    "# m = 5 --> 0.032816\n",
    "# m = 6 --> 0.032816\n",
    "# m = 7 --> 0.032816\n",
    "# m = 8 --> 0.032816\n",
    "# m = 9 --> 0.032816\n",
    "# m = 10 -->0.032288\n",
    "# dovrebbe rimanere costante fino a m = l_0*R_0 = 49"
   ]
  },
  {
   "cell_type": "code",
   "execution_count": null,
   "id": "8be86f9b",
   "metadata": {},
   "outputs": [],
   "source": [
    "# b (mu = 0.05) gauss std 0.1\n",
    "# m = 1 --> 0.001010\n",
    "# m = 2 --> 0.001010\n",
    "# m = 3 --> 0.001010\n",
    "# m = 4 --> 0.012119\n",
    "# m = 5 --> 0.012119\n",
    "# m = 6 --> 0.012119\n",
    "# m = 7 --> 0.012119\n",
    "# m = 8 --> 0.012119\n",
    "# m = 9 --> 0.012119\n",
    "# m = 10 --> 0.012502\n",
    "# dovrebbe rimanere costante fino a m = l_0*R_0 = 49"
   ]
  }
 ],
 "metadata": {
  "kernelspec": {
   "display_name": "Python 3",
   "language": "python",
   "name": "python3"
  },
  "language_info": {
   "codemirror_mode": {
    "name": "ipython",
    "version": 3
   },
   "file_extension": ".py",
   "mimetype": "text/x-python",
   "name": "python",
   "nbconvert_exporter": "python",
   "pygments_lexer": "ipython3",
   "version": "3.8.8"
  }
 },
 "nbformat": 4,
 "nbformat_minor": 5
}
